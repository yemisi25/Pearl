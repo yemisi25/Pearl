{
 "cells": [
  {
   "cell_type": "code",
   "execution_count": null,
   "metadata": {},
   "outputs": [
    {
     "name": "stdout",
     "output_type": "stream",
     "text": [
      "You have 10 guess\n",
      "Guess the number between 1 and 100 : 33\n",
      "\"Too high\"\n",
      "9 guess left\n",
      " \n",
      "Guess again : 6\n",
      "\"Too low\"\n",
      "8 guess left\n"
     ]
    }
   ],
   "source": [
    "#Python Bootcamp -Yemisi Oloruntoba\n",
    "# EXERCEISE - NUMBER GUESSING GAME(with loop)\n",
    "\n",
    "#---------------soluation------------------\n",
    "import random\n",
    "\n",
    "winning_number = random.randint(1,100)\n",
    "print('You have 10 guess') #inform user that he/she has 10 guesses\n",
    "guessed_number = int(input('Guess the number between 1 and 100 : '))\n",
    "guess = 1\n",
    "left_guess = 10\n",
    "game_over = False\n",
    "\n",
    "#infinite loop\n",
    "\n",
    "while not game_over:   # gameover is not true\n",
    "\n",
    "    if winning_number == guessed_number:\n",
    "        print(f'Congrats you guessed the number in {guess} time')\n",
    "        game_over = True\n",
    "\n",
    "    else:\n",
    "        if guess == 10:\n",
    "            print('Sorry, you can\\'t guess the number and you used 10 guesses')\n",
    "            print(f'The number is {winning_number}')\n",
    "            game_over = True\n",
    "\n",
    "        else:\n",
    "            if guessed_number > winning_number:\n",
    "                print('\"Too high\"')\n",
    "\n",
    "            else:\n",
    "                print('\"Too low\"')\n",
    "            guess +=1\n",
    "            print(f'{left_guess - (guess-1)} guess left')  # (guess-1) because guess is already 1 \n",
    "            guessed_number = int(input(' \\nGuess again : '))\n"
   ]
  },
  {
   "cell_type": "code",
   "execution_count": null,
   "metadata": {},
   "outputs": [],
   "source": []
  }
 ],
 "metadata": {
  "kernelspec": {
   "display_name": "Python 3",
   "language": "python",
   "name": "python3"
  },
  "language_info": {
   "codemirror_mode": {
    "name": "ipython",
    "version": 3
   },
   "file_extension": ".py",
   "mimetype": "text/x-python",
   "name": "python",
   "nbconvert_exporter": "python",
   "pygments_lexer": "ipython3",
   "version": "3.7.1"
  }
 },
 "nbformat": 4,
 "nbformat_minor": 2
}
