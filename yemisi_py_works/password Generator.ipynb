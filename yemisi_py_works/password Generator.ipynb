{
 "cells": [
  {
   "cell_type": "code",
   "execution_count": 2,
   "metadata": {},
   "outputs": [
    {
     "name": "stdout",
     "output_type": "stream",
     "text": [
      "Choose a lenght for you password (min. 6 and max. 50 characters): 7\n",
      "Generated password for you: 8K{x6ib\n"
     ]
    }
   ],
   "source": [
    "import random\n",
    "import string\n",
    "\n",
    "printable_characters = string.printable[:95]*10\n",
    "right = 0\n",
    "\n",
    "while right != 1:\n",
    "    try:\n",
    "        user_input = int(input(\"Choose a lenght for you password \"\n",
    "                               \"(min. 6 and max. 50 characters): \"))\n",
    "        if user_input < 6 or user_input > 50:\n",
    "            print(\"Out of range!\")\n",
    "            continue\n",
    "        right += 1        \n",
    "    except:\n",
    "        print(\"Wrong input, only numbers between 6 and 50 are allowed.\")\n",
    "        \n",
    "password = (random.sample(printable_characters, user_input))\n",
    "final_password = random.sample(password, user_input)\n",
    "final_password_as_string = \" \".join(final_password).replace(\" \", \"\")\n",
    "print(\"Generated password for you: \" + final_password_as_string)\n"
   ]
  },
  {
   "cell_type": "code",
   "execution_count": null,
   "metadata": {},
   "outputs": [],
   "source": []
  }
 ],
 "metadata": {
  "kernelspec": {
   "display_name": "Python 3",
   "language": "python",
   "name": "python3"
  },
  "language_info": {
   "codemirror_mode": {
    "name": "ipython",
    "version": 3
   },
   "file_extension": ".py",
   "mimetype": "text/x-python",
   "name": "python",
   "nbconvert_exporter": "python",
   "pygments_lexer": "ipython3",
   "version": "3.7.1"
  }
 },
 "nbformat": 4,
 "nbformat_minor": 2
}
